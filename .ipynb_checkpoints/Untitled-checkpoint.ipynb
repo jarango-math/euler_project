{
 "cells": [
  {
   "cell_type": "code",
   "execution_count": 39,
   "metadata": {},
   "outputs": [],
   "source": [
    "#Problem 1\n",
    "def sum_cal(num):\n",
    "    count = 0\n",
    "    for t in range(1,num):\n",
    "        if ((t%3==0) or (t%5==0)):\n",
    "            count += t\n",
    "    return count"
   ]
  },
  {
   "cell_type": "code",
   "execution_count": 40,
   "metadata": {},
   "outputs": [
    {
     "data": {
      "text/plain": [
       "233168"
      ]
     },
     "execution_count": 40,
     "metadata": {},
     "output_type": "execute_result"
    }
   ],
   "source": [
    "sum_cal(1000)"
   ]
  },
  {
   "cell_type": "code",
   "execution_count": 41,
   "metadata": {},
   "outputs": [],
   "source": [
    "#Problem 2\n",
    "def fib_count(num):\n",
    "    fib_first=1\n",
    "    fib_second=1\n",
    "    fib_number=0\n",
    "    count = 0\n",
    "    while (fib_number < num):\n",
    "        if (fib_number%2==0):\n",
    "            count += fib_number\n",
    "        fib_number = fib_first + fib_second\n",
    "        fib_second = fib_first\n",
    "        fib_first = fib_number\n",
    "    \n",
    "    return count"
   ]
  },
  {
   "cell_type": "code",
   "execution_count": 42,
   "metadata": {},
   "outputs": [
    {
     "data": {
      "text/plain": [
       "4613732"
      ]
     },
     "execution_count": 42,
     "metadata": {},
     "output_type": "execute_result"
    }
   ],
   "source": [
    "fib_count(4000000)"
   ]
  },
  {
   "cell_type": "code",
   "execution_count": 45,
   "metadata": {},
   "outputs": [],
   "source": [
    "#problem 3\n",
    "def find_prime(n):\n",
    "    #n = 600851475143\n",
    "    i = 2\n",
    "    while i * i <= n:\n",
    "        while n % i == 0:\n",
    "            n = n / i\n",
    "        i = i + 1\n",
    "    print(n)"
   ]
  },
  {
   "cell_type": "code",
   "execution_count": 46,
   "metadata": {},
   "outputs": [
    {
     "name": "stdout",
     "output_type": "stream",
     "text": [
      "6857.0\n"
     ]
    }
   ],
   "source": [
    "find_prime(600851475143)"
   ]
  },
  {
   "cell_type": "code",
   "execution_count": 49,
   "metadata": {},
   "outputs": [
    {
     "name": "stdout",
     "output_type": "stream",
     "text": [
      "906609\n"
     ]
    }
   ],
   "source": [
    "# problem 4\n",
    "n = 0 \n",
    "for a in range(999, 100, -1):\n",
    "     for b in range(a, 100, -1):\n",
    "         x = a * b\n",
    "         if x > n:\n",
    "             s = str(a * b)\n",
    "             if s == s[::-1]:\n",
    "                 n = a * b\n",
    "\n",
    "print(n)"
   ]
  },
  {
   "cell_type": "code",
   "execution_count": 51,
   "metadata": {},
   "outputs": [
    {
     "name": "stdout",
     "output_type": "stream",
     "text": [
      "232792560.0\n"
     ]
    }
   ],
   "source": [
    "def gcd(a,b): return b and gcd(b, a % b) or a\n",
    "    \n",
    "def lcm(a,b): return a * b / gcd(a,b)\n",
    " \n",
    "n = 1\n",
    "for i in range(1, 21):\n",
    "    n = lcm(n, i)\n",
    "\n",
    "print(n)"
   ]
  },
  {
   "cell_type": "code",
   "execution_count": 53,
   "metadata": {},
   "outputs": [
    {
     "name": "stdout",
     "output_type": "stream",
     "text": [
      "25164150\n"
     ]
    }
   ],
   "source": [
    "r = range(1, 101)\n",
    "a = sum(r)\n",
    "print(a * a - sum(i*i for i in r))"
   ]
  },
  {
   "cell_type": "code",
   "execution_count": 56,
   "metadata": {},
   "outputs": [],
   "source": [
    "# function to factor a given positive integer n\n",
    "def is_prime(n):\n",
    "    if n % 2 == 0: return False\n",
    "    p = 3\n",
    "    while p < n**0.5+1:\n",
    "        if n % p == 0: return False\n",
    "        p += 2\n",
    "    return True\n",
    " \n",
    "def nth_prime(n):\n",
    "    prime = 2\n",
    "    count = 1\n",
    "    iter = 3\n",
    "    while count < n:\n",
    "        if is_prime(iter):\n",
    "            prime = iter\n",
    "            count += 1\n",
    "        iter += 2\n",
    "    return prime"
   ]
  },
  {
   "cell_type": "code",
   "execution_count": 57,
   "metadata": {},
   "outputs": [
    {
     "data": {
      "text/plain": [
       "104743"
      ]
     },
     "execution_count": 57,
     "metadata": {},
     "output_type": "execute_result"
    }
   ],
   "source": [
    "nth_prime(10001)"
   ]
  },
  {
   "cell_type": "code",
   "execution_count": 68,
   "metadata": {},
   "outputs": [
    {
     "name": "stdout",
     "output_type": "stream",
     "text": [
      "23514624000\n"
     ]
    }
   ],
   "source": [
    "s = '7316717653133062491922511967442657474235534919493496983520312774506326239578318016984801869478851843858615607891129494954595017379583319528532088055111254069874715852386305071569329096329522744304355766896648950445244523161731856403098711121722383113622298934233803081353362766142828064444866452387493035890729629049156044077239071381051585930796086670172427121883998797908792274921901699720888093776657273330010533678812202354218097512545405947522435258490771167055601360483958644670632441572215539753697817977846174064955149290862569321978468622482839722413756570560574902614079729686524145351004748216637048440319989000889524345065854122758866688116427171479924442928230863465674813919123162824586178664583591245665294765456828489128831426076900422421902267105562632111110937054421750694165896040807198403850962455444362981230987879927244284909188845801561660979191338754992005240636899125607176060588611646710940507754100225698315520005593572972571636269561882670428252483600823257530420752963450'\n",
    "n = 0\n",
    "count=0\n",
    "for i in range(0, len(s)-13):\n",
    "    p = 1\n",
    "    for j in range(i,i+13):\n",
    "        p = p * int(s[j])\n",
    "        if s[j]== None:\n",
    "            break\n",
    "        count+=1\n",
    "    if p > n: n = p\n",
    "\n",
    "print(n)"
   ]
  },
  {
   "cell_type": "code",
   "execution_count": 69,
   "metadata": {},
   "outputs": [
    {
     "name": "stdout",
     "output_type": "stream",
     "text": [
      "31875000\n"
     ]
    }
   ],
   "source": [
    "for a in range(1,1000):\n",
    "    for b in range(a,1000):\n",
    "        c = 1000 - a - b\n",
    "        if c > 0:\n",
    "            if (c*c==a*a+b*b):\n",
    "                print(a*b*c)\n",
    "                break"
   ]
  },
  {
   "cell_type": "code",
   "execution_count": null,
   "metadata": {},
   "outputs": [],
   "source": [
    "n=1\n",
    "counter=0\n",
    "while True:\n",
    "    if nth_prime(n)<2000000:\n",
    "        counter+=nth_prime(n)\n",
    "        n+=1\n",
    "    else:\n",
    "        break\n",
    "print(counter)"
   ]
  },
  {
   "cell_type": "code",
   "execution_count": null,
   "metadata": {},
   "outputs": [],
   "source": []
  }
 ],
 "metadata": {
  "kernelspec": {
   "display_name": "Python 3",
   "language": "python",
   "name": "python3"
  },
  "language_info": {
   "codemirror_mode": {
    "name": "ipython",
    "version": 3
   },
   "file_extension": ".py",
   "mimetype": "text/x-python",
   "name": "python",
   "nbconvert_exporter": "python",
   "pygments_lexer": "ipython3",
   "version": "3.7.2"
  }
 },
 "nbformat": 4,
 "nbformat_minor": 2
}
